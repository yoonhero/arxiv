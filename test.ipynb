{
 "cells": [
  {
   "cell_type": "code",
   "execution_count": 12,
   "metadata": {},
   "outputs": [
    {
     "name": "stdout",
     "output_type": "stream",
     "text": [
      "True\n",
      "generator? True\n",
      "message: b\"Don't Trust, Verify\"\n",
      "message hash: 112761469845056919304416565170674990599925418308225593267094103636319905743526\n",
      "valid signatre?\n",
      "True\n"
     ]
    }
   ],
   "source": [
    "from ecdsa.curves import SECP256k1\n",
    "from ecdsa.ellipticcurve import Point\n",
    "import hashlib\n",
    "\n",
    "#Generator\n",
    "x1 = 55066263022277343669578718895168534326250603453777594175500187360389116729240\n",
    "y1 = 32670510020758816978083085130507043184471273380659243275938904335757337482424\n",
    "G = Point(SECP256k1.curve, x1, y1)\n",
    "print(G==G * (SECP256k1.order+1))\n",
    "print(\"generator?\", G == SECP256k1.generator)"
   ]
  },
  {
   "cell_type": "code",
   "execution_count": 15,
   "metadata": {},
   "outputs": [
    {
     "name": "stdout",
     "output_type": "stream",
     "text": [
      "message: b\"Don't Trust, Verify\"\n",
      "message hash: 112761469845056919304416565170674990599925418308225593267094103636319905743526\n",
      "valid signatre?\n",
      "False\n"
     ]
    }
   ],
   "source": [
    "n = SECP256k1.order\n",
    "\n",
    "#Public key, Private key\n",
    "k = 1002349230423\n",
    "P = G*k\n",
    "\n",
    "#Random point\n",
    "l = 10\n",
    "# r = 36322260242567644327577471914851727161017458705958127170915236715425819333073\n",
    "# y = 113817104126258647026551196310596962231430747658282676626153792268748326724326\n",
    "# R = Point(SECP256k1.curve, r, y)\n",
    "R = G*l\n",
    "\n",
    "#message hash\n",
    "m = b\"Don't Trust, Verify\"\n",
    "hash_obj = hashlib.sha256(m)\n",
    "hash_hex = hash_obj.hexdigest()\n",
    "z = int(hash_hex, 16)\n",
    "print(\"message:\", m)\n",
    "print(\"message hash:\", z)\n",
    "\n",
    "#signature\n",
    "s = (l+z*k) % n\n",
    "\n",
    "#verification\n",
    "print(\"valid signatre?\")\n",
    "print(l*G + z*P == s*G)"
   ]
  },
  {
   "cell_type": "code",
   "execution_count": null,
   "metadata": {},
   "outputs": [],
   "source": []
  }
 ],
 "metadata": {
  "kernelspec": {
   "display_name": "mlenv",
   "language": "python",
   "name": "python3"
  },
  "language_info": {
   "codemirror_mode": {
    "name": "ipython",
    "version": 3
   },
   "file_extension": ".py",
   "mimetype": "text/x-python",
   "name": "python",
   "nbconvert_exporter": "python",
   "pygments_lexer": "ipython3",
   "version": "3.11.7"
  }
 },
 "nbformat": 4,
 "nbformat_minor": 2
}
